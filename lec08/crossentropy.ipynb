{
 "cells": [
  {
   "cell_type": "code",
   "execution_count": 1,
   "id": "86125b83-f5e4-42f5-bc1e-c09c09185fe8",
   "metadata": {},
   "outputs": [],
   "source": [
    "import torch"
   ]
  },
  {
   "cell_type": "code",
   "execution_count": 13,
   "id": "2879d4a5-c70a-4bca-803a-7f13df1fa517",
   "metadata": {},
   "outputs": [],
   "source": [
    "def to_onehot(y,num_classes):\n",
    "    y_onehot = torch.zeros (y.size(0),num_classes)\n",
    "    y_onehot.scatter_(1,y.view(-1,1).long(),1).float()\n",
    "    return y_onehot\n"
   ]
  },
  {
   "cell_type": "code",
   "execution_count": 14,
   "id": "35f9b7f1-eccc-4501-8005-03a2cf0ead09",
   "metadata": {},
   "outputs": [
    {
     "data": {
      "text/plain": [
       "tensor([[1., 0., 0.],\n",
       "        [0., 1., 0.],\n",
       "        [0., 0., 1.],\n",
       "        [1., 0., 0.]])"
      ]
     },
     "execution_count": 14,
     "metadata": {},
     "output_type": "execute_result"
    }
   ],
   "source": [
    "y= torch.tensor([0,1,2,0])\n",
    "y_enc = to_onehot(y,3)\n",
    "y_enc"
   ]
  },
  {
   "cell_type": "code",
   "execution_count": 15,
   "id": "ef253886-39e7-48ca-966a-b1aa904cffae",
   "metadata": {},
   "outputs": [
    {
     "data": {
      "text/plain": [
       "tensor([[-0.2000, -0.5000, -0.5200],\n",
       "        [-0.2000, -0.1000, -0.5100],\n",
       "        [-0.3000, -0.4000, -0.5300],\n",
       "        [-0.3900, -0.8000, -0.5400]])"
      ]
     },
     "execution_count": 15,
     "metadata": {},
     "output_type": "execute_result"
    }
   ],
   "source": [
    "Z = torch.tensor( [[-0.2,  -0.5, -0.52],\n",
    "                   [-0.2,  -0.1, -0.51],\n",
    "                   [-0.3,  -0.4, -0.53],\n",
    "                   [-0.39, -0.8, -0.54]])\n",
    "\n",
    "Z"
   ]
  },
  {
   "cell_type": "code",
   "execution_count": 16,
   "id": "5c32a8ee-7478-4053-9695-597a0a1bfe80",
   "metadata": {},
   "outputs": [
    {
     "name": "stdout",
     "output_type": "stream",
     "text": [
      "softmax:\n",
      " tensor([[0.4054, 0.3003, 0.2943],\n",
      "        [0.3523, 0.3893, 0.2584],\n",
      "        [0.3705, 0.3352, 0.2943],\n",
      "        [0.3961, 0.2629, 0.3410]])\n"
     ]
    }
   ],
   "source": [
    "def softmax(z):\n",
    "    return (torch.exp(z.t()) / torch.sum(torch.exp(z), dim=1)).t()\n",
    "\n",
    "smax = softmax(Z)\n",
    "print('softmax:\\n', smax)\n"
   ]
  },
  {
   "cell_type": "code",
   "execution_count": 17,
   "id": "cf477ff2-35fc-45bd-bd12-8d9eef2dc848",
   "metadata": {},
   "outputs": [
    {
     "name": "stdout",
     "output_type": "stream",
     "text": [
      "predicted class labels:  tensor([0, 1, 0, 0])\n",
      "true class labels:  tensor([0, 1, 2, 0])\n"
     ]
    }
   ],
   "source": [
    "def to_classlabel(z):\n",
    "    return torch.argmax(z, dim=1)\n",
    "\n",
    "print('predicted class labels: ', to_classlabel(smax))\n",
    "print('true class labels: ', to_classlabel(y_enc))"
   ]
  },
  {
   "cell_type": "code",
   "execution_count": 18,
   "id": "904158cc-9a81-41aa-ad4c-4c51e65b85cf",
   "metadata": {},
   "outputs": [],
   "source": [
    "def cross_entropy(softmax, y_target):\n",
    "    return - torch.sum(torch.log(softmax) * (y_target), dim=1)"
   ]
  },
  {
   "cell_type": "code",
   "execution_count": 19,
   "id": "a6d008f2-bfd1-4484-ab54-e8581bf1fe45",
   "metadata": {},
   "outputs": [
    {
     "data": {
      "text/plain": [
       "tensor([0.9030, 0.9433, 1.2230, 0.9260])"
      ]
     },
     "execution_count": 19,
     "metadata": {},
     "output_type": "execute_result"
    }
   ],
   "source": [
    "cross_entropy(smax, y_enc)"
   ]
  },
  {
   "cell_type": "code",
   "execution_count": null,
   "id": "1e7a566e-c2a4-440e-9c84-0b0a00a61059",
   "metadata": {},
   "outputs": [],
   "source": []
  }
 ],
 "metadata": {
  "kernelspec": {
   "display_name": "Python 3 (ipykernel)",
   "language": "python",
   "name": "python3"
  },
  "language_info": {
   "codemirror_mode": {
    "name": "ipython",
    "version": 3
   },
   "file_extension": ".py",
   "mimetype": "text/x-python",
   "name": "python",
   "nbconvert_exporter": "python",
   "pygments_lexer": "ipython3",
   "version": "3.12.8"
  }
 },
 "nbformat": 4,
 "nbformat_minor": 5
}
