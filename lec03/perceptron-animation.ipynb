{
 "cells": [
  {
   "cell_type": "markdown",
   "metadata": {},
   "source": [
    "STAT 453: Deep Learning (Spring 2021)  \n",
    "\n",
    "Instructor: Sebastian Raschka (sraschka@wisc.edu)  \n",
    "Course website: http://pages.stat.wisc.edu/~sraschka/teaching/stat453-ss2021/  \n",
    "GitHub repository: https://github.com/rasbt/stat453-deep-learning-ss21"
   ]
  },
  {
   "cell_type": "markdown",
   "metadata": {},
   "source": [
    "# L03: Perceptron animation"
   ]
  },
  {
   "cell_type": "markdown",
   "metadata": {},
   "source": [
    "## Imports"
   ]
  },
  {
   "cell_type": "code",
   "execution_count": 2,
   "metadata": {},
   "outputs": [],
   "source": [
    "import numpy as np\n",
    "import matplotlib.pyplot as plt\n",
    "%matplotlib inline"
   ]
  },
  {
   "cell_type": "markdown",
   "metadata": {},
   "source": [
    "## Preparing a toy dataset"
   ]
  },
  {
   "cell_type": "code",
   "execution_count": 4,
   "metadata": {},
   "outputs": [
    {
     "name": "stdout",
     "output_type": "stream",
     "text": [
      "Class label counts: [50 50]\n",
      "X.shape: (100, 2)\n",
      "y.shape: (100,)\n"
     ]
    }
   ],
   "source": [
    "##########################\n",
    "### DATASET\n",
    "##########################\n",
    "\n",
    "data = np.genfromtxt('perceptron_toydata.txt', delimiter='\\t')\n",
    "X, y = data[:, :2], data[:, 2]\n",
    "y = y.astype(np.int8)\n",
    "\n",
    "print('Class label counts:', np.bincount(y))\n",
    "print('X.shape:', X.shape)\n",
    "print('y.shape:', y.shape)\n",
    "\n",
    "# Shuffling & train/test split\n",
    "shuffle_idx = np.arange(y.shape[0])\n",
    "shuffle_rng = np.random.RandomState(123)\n",
    "shuffle_rng.shuffle(shuffle_idx)\n",
    "X, y = X[shuffle_idx], y[shuffle_idx]"
   ]
  },
  {
   "cell_type": "code",
   "execution_count": 5,
   "metadata": {},
   "outputs": [
    {
     "data": {
      "image/png": "[encoded data removed]",
      "text/plain": [
       "<Figure size 640x480 with 1 Axes>"
      ]
     },
     "metadata": {},
     "output_type": "display_data"
    }
   ],
   "source": [
    "plt.scatter(X[y==0, 0], X[y==0, 1], label='class 0', marker='o')\n",
    "plt.scatter(X[y==1, 0], X[y==1, 1], label='class 1', marker='s')\n",
    "plt.title('Training set')\n",
    "plt.xlabel('feature 1')\n",
    "plt.ylabel('feature 2')\n",
    "plt.xlim([-3, 3])\n",
    "plt.ylim([-3, 3])\n",
    "plt.legend()\n",
    "plt.show()"
   ]
  },
  {
   "cell_type": "markdown",
   "metadata": {},
   "source": [
    "## Defining the Perceptron model"
   ]
  },
  {
   "cell_type": "code",
   "execution_count": 19,
   "metadata": {},
   "outputs": [],
   "source": [
    "class Perceptron():\n",
    "    def __init__(self, num_features):\n",
    "        self.num_features = num_features\n",
    "        self.weights = np.zeros((num_features, 1), dtype=np.float16)\n",
    "        self.bias = np.zeros(1, dtype=np.float16)\n",
    "\n",
    "    def forward(self, x):\n",
    "        #print(f\"Shape of x {x.shape}\")\n",
    "        #print(f\"Shape of weights {self.weights.shape}\")\n",
    "        linear = np.dot(x, self.weights) + self.bias #net input\n",
    "        predictions = np.where(linear > 0., 1, 0)\n",
    "        return predictions\n",
    "        \n",
    "    def backward(self, x, y):  \n",
    "        predictions = self.forward(x)\n",
    "        errors = y - predictions\n",
    "        return errors\n",
    "        \n",
    "    def train(self, x, y, epochs):\n",
    "        for e in range(epochs):\n",
    "            \n",
    "            for i in range(y.shape[0]):\n",
    "                errors = self.backward(x[i].reshape(1, self.num_features), y[i]).reshape(-1)\n",
    "                self.weights += (errors * x[i]).reshape(self.num_features, 1)\n",
    "                self.bias += errors\n",
    "                \n",
    "    def evaluate(self, x, y):\n",
    "        predictions = self.forward(x).reshape(-1)\n",
    "        accuracy = np.sum(predictions == y) / y.shape[0]\n",
    "        return accuracy"
   ]
  },
  {
   "cell_type": "markdown",
   "metadata": {},
   "source": [
    "## Training the Perceptron"
   ]
  },
  {
   "cell_type": "code",
   "execution_count": 20,
   "metadata": {},
   "outputs": [],
   "source": [
    "all_weights = []\n",
    "all_biases = []\n",
    "\n",
    "ppn = Perceptron(num_features=2)\n",
    "\n",
    "acc = 0\n",
    "\n",
    "for epoch in range(10):\n",
    "\n",
    "    for i in range(X.shape[0]):\n",
    "        \n",
    "        all_weights.append(ppn.weights.copy())\n",
    "        all_biases.append(ppn.bias.copy())\n",
    "        ppn.train(X[i].reshape(1, -1), y[i].reshape(-1), epochs=1)\n",
    "        \n",
    "        acc = ppn.evaluate(X, y)\n",
    "        \n",
    "        if acc == 1.0:\n",
    "            break\n",
    "            \n",
    "    if acc == 1.0:\n",
    "        all_weights.append(ppn.weights.copy())\n",
    "        all_biases.append(ppn.bias.copy())\n",
    "        break"
   ]
  },
  {
   "cell_type": "markdown",
   "metadata": {},
   "source": [
    "## Plotting the boundary"
   ]
  },
  {
   "cell_type": "code",
   "execution_count": 14,
   "metadata": {},
   "outputs": [
    {
     "name": "stderr",
     "output_type": "stream",
     "text": [
      "/var/folders/vx/qt1kgw1n019ffq1xswxf77zc0000gn/T/ipykernel_64812/758561016.py:22: RuntimeWarning: invalid value encountered in divide\n",
      "  y_min = ( (-(w[0] * x_min) - b[0])\n",
      "/var/folders/vx/qt1kgw1n019ffq1xswxf77zc0000gn/T/ipykernel_64812/758561016.py:26: RuntimeWarning: invalid value encountered in divide\n",
      "  y_max = ( (-(w[0] * x_max) - b[0])\n"
     ]
    },
    {
     "ename": "AttributeError",
     "evalue": "'FigureCanvasAgg' object has no attribute 'tostring_rgb'",
     "output_type": "error",
     "traceback": [
      "\u001b[31m---------------------------------------------------------------------------\u001b[39m",
      "\u001b[31mAttributeError\u001b[39m                            Traceback (most recent call last)",
      "\u001b[36mCell\u001b[39m\u001b[36m \u001b[39m\u001b[32mIn[14]\u001b[39m\u001b[32m, line 49\u001b[39m\n\u001b[32m     45\u001b[39m     \u001b[38;5;28;01mreturn\u001b[39;00m image\n\u001b[32m     48\u001b[39m kwargs_write = {\u001b[33m'\u001b[39m\u001b[33mfps\u001b[39m\u001b[33m'\u001b[39m:\u001b[32m1.0\u001b[39m, \u001b[33m'\u001b[39m\u001b[33mquantizer\u001b[39m\u001b[33m'\u001b[39m:\u001b[33m'\u001b[39m\u001b[33mnq\u001b[39m\u001b[33m'\u001b[39m}\n\u001b[32m---> \u001b[39m\u001b[32m49\u001b[39m imageio.mimsave(\u001b[33m'\u001b[39m\u001b[33mtraining.gif\u001b[39m\u001b[33m'\u001b[39m, [\u001b[43mplot\u001b[49m\u001b[43m(\u001b[49m\u001b[43mi\u001b[49m\u001b[43m)\u001b[49m \u001b[38;5;28;01mfor\u001b[39;00m i \u001b[38;5;129;01min\u001b[39;00m \u001b[38;5;28mrange\u001b[39m(\u001b[38;5;28mlen\u001b[39m(all_weights))], fps=\u001b[32m1\u001b[39m);\n",
      "\u001b[36mCell\u001b[39m\u001b[36m \u001b[39m\u001b[32mIn[14]\u001b[39m\u001b[32m, line 42\u001b[39m, in \u001b[36mplot\u001b[39m\u001b[34m(i)\u001b[39m\n\u001b[32m     39\u001b[39m ax.scatter(X[i][\u001b[32m0\u001b[39m], X[i][\u001b[32m1\u001b[39m], **scatter_highlight_defaults)\n\u001b[32m     41\u001b[39m fig.canvas.draw();\n\u001b[32m---> \u001b[39m\u001b[32m42\u001b[39m image = np.frombuffer(\u001b[43mfig\u001b[49m\u001b[43m.\u001b[49m\u001b[43mcanvas\u001b[49m\u001b[43m.\u001b[49m\u001b[43mtostring_rgb\u001b[49m(), dtype=\u001b[33m'\u001b[39m\u001b[33muint8\u001b[39m\u001b[33m'\u001b[39m)\n\u001b[32m     43\u001b[39m image = image.reshape(fig.canvas.get_width_height()[::-\u001b[32m1\u001b[39m] + (\u001b[32m3\u001b[39m,))\n\u001b[32m     45\u001b[39m \u001b[38;5;28;01mreturn\u001b[39;00m image\n",
      "\u001b[31mAttributeError\u001b[39m: 'FigureCanvasAgg' object has no attribute 'tostring_rgb'"
     ]
    },
    {
     "data": {
      "image/png": "[encoded data removed]",
      "text/plain": [
       "<Figure size 640x480 with 1 Axes>"
      ]
     },
     "metadata": {},
     "output_type": "display_data"
    }
   ],
   "source": [
    "##########################\n",
    "### 2D Decision Boundary\n",
    "##########################\n",
    "\n",
    "\n",
    "import imageio\n",
    "\n",
    "\n",
    "scatter_highlight_defaults = {'c': 'red',\n",
    "                              'edgecolor': 'k',\n",
    "                              'alpha': 1.0,\n",
    "                              'linewidths': 2,\n",
    "                              'marker': 'o',\n",
    "                              's': 150}\n",
    "\n",
    "def plot(i):\n",
    "    \n",
    "    fig, ax = plt.subplots()\n",
    "    w, b = all_weights[i], all_biases[i]\n",
    "    \n",
    "    x_min = -20\n",
    "    y_min = ( (-(w[0] * x_min) - b[0]) \n",
    "              / w[1] )\n",
    "\n",
    "    x_max = 20\n",
    "    y_max = ( (-(w[0] * x_max) - b[0]) \n",
    "              / w[1] )\n",
    "    \n",
    "    ax.set_xlim([-5., 5])\n",
    "    ax.set_ylim([-5., 5])\n",
    "    \n",
    "    ax.set_xlabel('Iteration %d' % i)\n",
    "\n",
    "    ax.plot([x_min, x_max], [y_min, y_max], color='k')\n",
    "    \n",
    "    ax.scatter(X[y==0, 0], X[y==0, 1], label='class 0', marker='o')\n",
    "    ax.scatter(X[y==1, 0], X[y==1, 1], label='class 1', marker='s')\n",
    "    \n",
    "    ax.scatter(X[i][0], X[i][1], **scatter_highlight_defaults)\n",
    "\n",
    "    fig.canvas.draw();\n",
    "    image = np.frombuffer(fig.canvas.tostring_rgb(), dtype='uint8')\n",
    "    image = image.reshape(fig.canvas.get_width_height()[::-1] + (3,))\n",
    "\n",
    "    return image\n",
    "\n",
    "\n",
    "kwargs_write = {'fps':1.0, 'quantizer':'nq'}\n",
    "imageio.mimsave('training.gif', [plot(i) for i in range(len(all_weights))], fps=1);\n"
   ]
  },
  {
   "cell_type": "code",
   "execution_count": null,
   "metadata": {},
   "outputs": [],
   "source": []
  }
 ],
 "metadata": {
  "kernelspec": {
   "display_name": "Python 3 (ipykernel)",
   "language": "python",
   "name": "python3"
  },
  "language_info": {
   "codemirror_mode": {
    "name": "ipython",
    "version": 3
   },
   "file_extension": ".py",
   "mimetype": "text/x-python",
   "name": "python",
   "nbconvert_exporter": "python",
   "pygments_lexer": "ipython3",
   "version": "3.12.8"
  },
  "toc": {
   "base_numbering": 1,
   "nav_menu": {},
   "number_sections": true,
   "sideBar": true,
   "skip_h1_title": false,
   "title_cell": "Table of Contents",
   "title_sidebar": "Contents",
   "toc_cell": false,
   "toc_position": {},
   "toc_section_display": true,
   "toc_window_display": false
  }
 },
 "nbformat": 4,
 "nbformat_minor": 4
}
